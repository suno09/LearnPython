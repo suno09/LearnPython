{
 "cells": [
  {
   "cell_type": "code",
   "execution_count": 1,
   "metadata": {},
   "outputs": [],
   "source": [
    "from threading import Thread\n",
    "from queue import Queue\n",
    "from time import time, sleep\n",
    "\n",
    "import sys"
   ]
  },
  {
   "cell_type": "code",
   "execution_count": 16,
   "metadata": {},
   "outputs": [],
   "source": [
    "progress = 0\n",
    "\n",
    "def show_progress(total):\n",
    "    global progress\n",
    "    progress += 1\n",
    "    progress_value = progress * 100. / total\n",
    "#     sys.stdout.write(\"\\r\")\n",
    "    sys.stdout.write(\"Progression |%-100s| %.2f %%\\n\" %\n",
    "                     (\"\\u2588\" * int(progress_value), progress_value)\n",
    "                     )\n",
    "    sys.stdout.flush()"
   ]
  },
  {
   "cell_type": "code",
   "execution_count": 24,
   "metadata": {},
   "outputs": [],
   "source": [
    "q = Queue()\n",
    "def thread_work(id, queue):\n",
    "    sleep(.1)\n",
    "    queue.put(id)\n",
    "    show_progress(20)"
   ]
  },
  {
   "cell_type": "code",
   "execution_count": 36,
   "metadata": {},
   "outputs": [
    {
     "name": "stdout",
     "output_type": "stream",
     "text": [
      "Progression |█████                                                                                               | 5.00 %\n",
      "Progression |██████████                                                                                          | 10.00 %\n",
      "Progression |███████████████                                                                                     | 15.00 %\n",
      "Progression |████████████████████                                                                                | 20.00 %\n",
      "Progression |█████████████████████████                                                                           | 25.00 %\n",
      "Progression |██████████████████████████████                                                                      | 30.00 %\n",
      "Progression |███████████████████████████████████                                                                 | 35.00 %\n",
      "Progression |████████████████████████████████████████                                                            | 40.00 %\n",
      "Progression |█████████████████████████████████████████████                                                       | 45.00 %\n",
      "Progression |██████████████████████████████████████████████████                                                  | 50.00 %\n",
      "Progression |███████████████████████████████████████████████████████                                             | 55.00 %\n",
      "Progression |████████████████████████████████████████████████████████████                                        | 60.00 %\n",
      "Progression |█████████████████████████████████████████████████████████████████                                   | 65.00 %\n",
      "Progression |██████████████████████████████████████████████████████████████████████                              | 70.00 %\n",
      "Progression |███████████████████████████████████████████████████████████████████████████                         | 75.00 %\n",
      "Progression |████████████████████████████████████████████████████████████████████████████████                    | 80.00 %\n",
      "Progression |█████████████████████████████████████████████████████████████████████████████████████               | 85.00 %\n",
      "Progression |██████████████████████████████████████████████████████████████████████████████████████████          | 90.00 %\n",
      "Progression |███████████████████████████████████████████████████████████████████████████████████████████████     | 95.00 %\n",
      "Progression |████████████████████████████████████████████████████████████████████████████████████████████████████| 100.00 %\n"
     ]
    },
    {
     "data": {
      "text/plain": [
       "2.0288174152374268"
      ]
     },
     "execution_count": 36,
     "metadata": {},
     "output_type": "execute_result"
    }
   ],
   "source": [
    "start = time()\n",
    "progress = 0\n",
    "for i in range(20):\n",
    "    thread_work(i, q)\n",
    "end = time()\n",
    "end - start"
   ]
  },
  {
   "cell_type": "code",
   "execution_count": 37,
   "metadata": {},
   "outputs": [
    {
     "name": "stdout",
     "output_type": "stream",
     "text": [
      "Progression |█████                                                                                               | 5.00 %\n",
      "Progression |██████████                                                                                          | 10.00 %\n",
      "Progression |███████████████                                                                                     | 15.00 %\n",
      "Progression |████████████████████                                                                                | 20.00 %\n",
      "Progression |█████████████████████████                                                                           | 25.00 %\n",
      "Progression |██████████████████████████████                                                                      | 30.00 %\n",
      "Progression |███████████████████████████████████                                                                 | 35.00 %\n",
      "Progression |████████████████████████████████████████                                                            | 40.00 %\n",
      "Progression |█████████████████████████████████████████████                                                       | 45.00 %\n",
      "Progression |██████████████████████████████████████████████████                                                  | 50.00 %\n",
      "Progression |███████████████████████████████████████████████████████                                             | 55.00 %\n",
      "Progression |████████████████████████████████████████████████████████████                                        | 60.00 %\n",
      "Progression |█████████████████████████████████████████████████████████████████                                   | 65.00 %\n",
      "Progression |██████████████████████████████████████████████████████████████████████                              | 70.00 %\n",
      "Progression |███████████████████████████████████████████████████████████████████████████                         | 75.00 %\n",
      "Progression |████████████████████████████████████████████████████████████████████████████████                    | 80.00 %\n",
      "Progression |█████████████████████████████████████████████████████████████████████████████████████               | 85.00 %\n",
      "Progression |██████████████████████████████████████████████████████████████████████████████████████████          | 90.00 %\n",
      "Progression |███████████████████████████████████████████████████████████████████████████████████████████████     | 95.00 %\n",
      "Progression |████████████████████████████████████████████████████████████████████████████████████████████████████| 100.00 %\n",
      "\n",
      " 190\n"
     ]
    },
    {
     "data": {
      "text/plain": [
       "0.12119007110595703"
      ]
     },
     "execution_count": 37,
     "metadata": {},
     "output_type": "execute_result"
    }
   ],
   "source": [
    "threads = []\n",
    "progress = 0\n",
    "start = time()\n",
    "for i in range(20):\n",
    "    threads.append(Thread(target=thread_work, args=(i, q)))\n",
    "[threads[i].start() for i in range(20)]\n",
    "[threads[i].join() for i in range(20)]\n",
    "print('\\n', sum([q.get() for _ in range(20)]))\n",
    "end = time()\n",
    "end - start"
   ]
  },
  {
   "cell_type": "code",
   "execution_count": null,
   "metadata": {},
   "outputs": [],
   "source": []
  },
  {
   "cell_type": "code",
   "execution_count": null,
   "metadata": {},
   "outputs": [],
   "source": []
  }
 ],
 "metadata": {
  "kernelspec": {
   "display_name": "Python 3",
   "language": "python",
   "name": "python3"
  },
  "language_info": {
   "codemirror_mode": {
    "name": "ipython",
    "version": 3
   },
   "file_extension": ".py",
   "mimetype": "text/x-python",
   "name": "python",
   "nbconvert_exporter": "python",
   "pygments_lexer": "ipython3",
   "version": "3.6.3"
  }
 },
 "nbformat": 4,
 "nbformat_minor": 2
}
